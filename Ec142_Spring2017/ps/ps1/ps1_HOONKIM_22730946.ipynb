{
 "cells": [
  {
   "cell_type": "markdown",
   "metadata": {},
   "source": [
    "# 0. Preliminaries"
   ]
  },
  {
   "cell_type": "code",
   "execution_count": 59,
   "metadata": {
    "collapsed": false
   },
   "outputs": [],
   "source": [
    "from __future__ import division\n",
    "import numpy as np\n",
    "import scipy\n",
    "import pandas as pd\n",
    "import matplotlib.pyplot as plt\n",
    "import seaborn as sns\n",
    "import statsmodels.api as sm\n",
    "from statsmodels.sandbox.regression.predstd import wls_prediction_std\n",
    "from IPython.display import  Image\n",
    "np.random.seed(1234)"
   ]
  },
  {
   "cell_type": "markdown",
   "metadata": {},
   "source": [
    "# Problem Set 1\n",
    "## Author: *HOON KIM (SID:22730946)*\n",
    "## Projections\n",
    "### 1. Let $X$ and $Y$ be two mean zero random variables with finite variance. (i.e. $E[X] = 0$, $E[Y] = 0$, $E[X^2]<\\infty$, and $E[Y^2]<\\infty$). Let the population correction be\n",
    "$$\\begin{equation}\n",
    "\\rho = \\frac{Cov(X,Y)}{\\sqrt{Var(X)}\\sqrt{Var(Y)}}.\n",
    "\\end{equation}$$\n",
    "### Use the *Cauchy-Schwarz Inequality* to prove $0\\leq\\rho^2\\leq1$."
   ]
  },
  {
   "cell_type": "markdown",
   "metadata": {},
   "source": [
    "*__Cauchy-Schwarz Inequality__* states that\n",
    "\n",
    "$$\\mid<\\textbf{u},\\textbf{v}>\\mid~\\leq~<\\textbf{u},\\textbf{u}>\\cdot<\\textbf{v},\\textbf{v}>$$\n",
    "$$\\Leftrightarrow~ \\mid<\\textbf{u},\\textbf{v}>\\mid~ \\leq~ \\lVert\\textbf{u}\\rVert\\cdot\\lVert\\textbf{v}\\rVert$$.\n",
    "$$\\Leftrightarrow~ \\mid\\sum_{i=1}^n u_{i}\\overline{v_{i}}\\mid^2~ \\leq~ \\sum_{j=1}^n |u_{j}|^2 \\cdot \\sum_{k=1}^n |v_{k}|^2.$$\n",
    "\n",
    "Since $E[X] = \\frac{1}{n} \\sum_{i=1}^n x_{i} ~\\Leftrightarrow~ nE[X] = \\sum_{i=1}^n x_{i}$, we can use both properties to derive an equation as such:\n",
    "\n",
    "$$nE[AB]^2~ \\leq~ nE[A^2] \\cdot nE[B^2].$$\n",
    "\n",
    "If we plug in $X-E[X] = A$, and $Y-E[Y] = B$,\n",
    "\n",
    "$$nE[(X-E[X])(Y-E[Y])]^2~ \\leq~ nE[(X-E[X])^2] \\cdot nE[(Y-E[Y])^2]$$\n",
    "$$\\Leftrightarrow~ E[(X-E[X])(Y-E[Y])]^2~ \\leq~ E[(X-E[X])^2] \\cdot E[(Y-E[Y])^2].$$\n",
    "\n",
    "Here, we can recollect from the lecture that\n",
    "\n",
    "$$Cov(X,Y) = E[(X-E[X])(Y-E[Y])],$$\n",
    "$$Var(X) = E[(X-E[X])^2],$$\n",
    "$$Var(Y) = E[(Y-E[Y])^2].$$\n",
    "\n",
    "If we plug in the above to the derived inequality,\n",
    "\n",
    "$$(Cov(X,Y))^2 ~\\leq~ Var(X) \\cdot Var(Y)$$\n",
    "$$\\Leftrightarrow~ \\frac{(Cov(X,Y))^2}{Var(X)Var(Y)} ~\\leq~ 1,$$\n",
    "$$\\Leftrightarrow~ 0 \\leq \\rho^2 \\leq 1. ~(~ \\because~ (Cov(X,Y))^2, Var(X), Var(Y) ~\\geq~ 0 ~).\\blacksquare$$"
   ]
  },
  {
   "cell_type": "markdown",
   "metadata": {},
   "source": [
    "### 2. Prove Pythagorean Theorem."
   ]
  },
  {
   "cell_type": "code",
   "execution_count": 2,
   "metadata": {
    "collapsed": false
   },
   "outputs": [
    {
     "data": {
      "image/png": "[encoded data removed]",
      "text/plain": [
       "<IPython.core.display.Image object>"
      ]
     },
     "execution_count": 2,
     "metadata": {},
     "output_type": "execute_result"
    }
   ],
   "source": [
    "Image(filename='pythagorean.png')"
   ]
  },
  {
   "cell_type": "markdown",
   "metadata": {},
   "source": [
    "Consider vectors $\\textbf{a}$ and $\\textbf{b}$, which are orthogonal to each other in an $\\mathbb{R}^2$ space. Then we can prove the **Pythagorean Theorem** by using inner product properties.\n",
    "\n",
    "$$\\lVert \\textbf{a}+\\textbf{b} \\rVert^2 = <\\textbf{a}+\\textbf{b},\\textbf{a}+\\textbf{b}> = \\lVert \\textbf{a} \\rVert^2 + \\lVert \\textbf{b} \\rVert^2 + <\\textbf{a}, \\textbf{b}> + \\overline{<\\textbf{b},\\textbf{a}>} = \\lVert \\textbf{a} \\rVert^2 + \\lVert \\textbf{b} \\rVert^2 + 2\\lVert \\textbf{a} \\rVert \\lVert \\textbf{b} \\rVert \\cdot cos\\theta$$\n",
    "\n",
    "Since $\\textbf{a}$ and $\\textbf{b}$ are orthogonal to each other, it is easy to observe that $<\\textbf{a}, \\textbf{b}>, \\overline{<\\textbf{b},\\textbf{a}>} = 0$. Therefore, we can conclude that \n",
    "\n",
    "$$\\lVert \\textbf{a}+\\textbf{b} \\rVert^2 = \\lVert \\textbf{a} \\rVert^2 + \\lVert \\textbf{b} \\rVert^2$$\n",
    "\n",
    "holds, which proves the **Pythagorean Theorem**. $\\blacksquare$"
   ]
  },
  {
   "cell_type": "markdown",
   "metadata": {},
   "source": [
    "## Production / cost function : Theory"
   ]
  },
  {
   "cell_type": "markdown",
   "metadata": {},
   "source": [
    "Consider a population of firms. A firm with capital $k$ and labor $l$ produces output\n",
    "\n",
    "$$y(k,l;A) = Ak^{\\alpha}l^{\\beta}.~ ~ ~ ~ ~ ~ ~ ~ (1)$$\n",
    "\n",
    "Here A is firm-specific, capturing heterogeneity in the efficiency with which different firms are able to transform capital and labor into output. Let W denote the wage rate, and R the rental price of a unit of capital, faced by the firm. We assume that a firm seeking to produce output y, while facing input prices r and w, does so in a cost-minimizing way; choosing $K(y, r, w; A)$ and $L (y, r, w; A)$ to solve the constrained minimization problem\n",
    "\n",
    "$$\\min\\limits_{k,l} rk + wl + \\lambda [y - Ak^{\\alpha}l^{\\beta}].~ ~ ~ ~ ~ ~ ~ ~ (2)$$\n",
    "\n",
    "**1)** The derived demand for capital and labor equals the amount of each input a firm would choose when seeking to produce $y$ while facing input prices $r$ and $w$. Show these derived demand schedules, under (2), equal:\n",
    "\n",
    "$$K(y, r, w; A) = \\alpha (\\frac{y}{A})^{\\frac{1}{\\eta}} (\\frac{w}{r})^{\\frac{\\beta}{\\eta}} [\\alpha^{\\alpha} \\beta^{\\beta}]^{-\\frac{1}{\\eta}} ~ ~ ~ ~ ~ ~ ~ ~ (3)$$\n",
    "\n",
    "$$L (y, r, w; A) = \\beta (\\frac{y}{A})^{\\frac{1}{\\eta}} (\\frac{w}{r})^{\\frac{\\alpha}{\\eta}} [\\alpha^{\\alpha} \\beta^{\\beta}]^{-\\frac{1}{\\eta}}, ~ ~ ~ ~ ~ ~ ~ ~ (4)$$\n",
    "\n",
    "where $\\eta = \\alpha + \\beta$. Briefly interpret the two demand schedules [5 to 10 sentences]. Why is $\\eta$ called the returns-to-scale parameter?"
   ]
  },
  {
   "cell_type": "markdown",
   "metadata": {},
   "source": [
    "**ANSWER**: In order to attain the optimal level of inputs ($K^{*}(y, r, w; A)$ and $L^{*}(y, r, w; A)$), we need approach with *Lagrangian*.\n",
    "\n",
    "$$\\mathcal{L} = rk + wl + \\lambda[y - Ak^{\\alpha}l^{\\beta}].$$\n",
    "\n",
    "F.O.C:\n",
    "\n",
    "$$\\frac{\\partial\\mathcal{L}}{\\partial k} = r - \\lambda \\alpha A k^{\\alpha -1} l^{\\beta} = 0~ ~ ~ ~ ~ ~ (a)$$\n",
    "$$\\frac{\\partial\\mathcal{L}}{\\partial l} = w - \\lambda \\beta A k^{\\alpha} l^{\\beta-1} = 0~ ~ ~ ~ ~ ~ (b)$$\n",
    "$$\\frac{\\partial\\mathcal{L}}{\\partial\\lambda} = y - A k^{\\alpha} l^{\\beta} = 0~ ~ ~ ~ ~ ~ (c)$$\n",
    "\n",
    "From $(a)$ and $(b)$, we can derive:\n",
    "\n",
    "$$\\frac{w}{r} = \\frac{\\beta k}{\\alpha l}$$\n",
    "$$k = l(\\frac{\\alpha w}{\\beta r}),~~ l = k(\\frac{\\beta r}{\\alpha w}).$$\n",
    "\n",
    "If we plug in $k$ and $l$ into the $(c)$,\n",
    "\n",
    "$$A k^{\\alpha} (k(\\frac{\\beta r}{\\alpha w}))^{\\beta} = y ~ \\Leftrightarrow~ A k^{\\alpha+\\beta} (\\frac{\\beta r}{\\alpha w})^{\\beta} = y,$$\n",
    "$$\\Rightarrow~ k^{*} = (\\frac{y}{A})^{\\frac{1}{\\alpha+\\beta}}(\\frac{\\alpha}{\\beta} \\frac{w}{r})^{\\frac{\\beta}{\\alpha+\\beta}}$$\n",
    "\n",
    "$$A(l(\\frac{\\alpha w}{\\beta r}))^{\\alpha} l^{\\beta} = y ~ \\Leftrightarrow~ A l^{\\alpha+\\beta} (\\frac{\\alpha w}{\\beta r})^{\\alpha} = y,$$\n",
    "$$\\Rightarrow~ l^{*} = (\\frac{y}{A})^{\\frac{1}{\\alpha+\\beta}}(\\frac{\\alpha}{\\beta} \\frac{w}{r})^{-\\frac{\\alpha}{\\alpha+\\beta}}.$$\n",
    "\n",
    "Since\n",
    "\n",
    "$$\\alpha \\cdot \\alpha^{-\\frac{\\alpha}{\\alpha + \\beta}} = \\alpha^{\\frac{\\beta}{\\alpha + \\beta}},$$\n",
    "$$(\\frac{\\alpha}{\\beta})^{\\frac{\\beta}{\\alpha + \\beta}} = \\alpha^{\\frac{\\beta}{\\alpha + \\beta}} \\beta^{-\\frac{\\beta}{\\alpha + \\beta}} = \\alpha \\cdot [\\alpha^{\\alpha}\\beta^{\\beta}]^{-\\frac{1}{\\alpha + \\beta}}$$\n",
    "\n",
    "If we plug in $\\eta = \\alpha + \\beta$ to the equation,\n",
    "\n",
    "$$K^{*}(y, r, w; A)  = \\alpha (\\frac{y}{A})^{\\frac{1}{\\eta}} (\\frac{w}{r})^{\\frac{\\beta}{\\eta}} [\\alpha^{\\alpha}\\beta^{\\beta}]^{-\\frac{1}{\\eta}}.$$\n",
    "\n",
    "By the same logic and operation,\n",
    "\n",
    "$$L^{*}(y, r, w; A) = \\beta (\\frac{y}{A})^{\\frac{1}{\\eta}} (\\frac{w}{r})^{\\frac{\\alpha}{\\eta}} [\\alpha^{\\alpha} \\beta^{\\beta}]^{-\\frac{1}{\\eta}}.\\blacksquare$$"
   ]
  },
  {
   "cell_type": "markdown",
   "metadata": {},
   "source": [
    "**Interpretation of the two demand schedules**:\n",
    "1. $K(y,r,w;A)$ is a function of capital, which takes in product, price of capital and wage as its input, conditioned by firm heterogeneity in the efficiency.\n",
    "2. $L(y,r,w;A)$ is a function of labor, which takes in product, price of capital and wage as its input, conditioned by firm heterogeneity in the efficiency.\n",
    "3. All in all, both demand schedules are the components of the cost function, which decides how much it will cost using certain amount of capital and labor in production, and $K^{*}(y,r,w;A)$ and $L^{*}(y,r,w;A)$ are the optimal functions for capital and labor, which minimizes the cost function."
   ]
  },
  {
   "cell_type": "markdown",
   "metadata": {},
   "source": [
    "**Why is $\\eta$ called the returns-to-scale parameter?:**\n",
    "\n",
    "$\\eta$ is called the returns-to-scale parameter because\n",
    "1. $\\eta > 1$, we have more increase in return expected than the amount increase in both capital and labor. In other words, $y(aK,aL) > a*y(K,L)$,\n",
    "2. $\\eta = 1$, we have constant increase in return expected as the amount increase in both capital and labor. In other words, $y(aK,aL) = a*y(K,L)$,\n",
    "3. $\\eta < 1$, we have less increase in return expected than the amount increase in both capital and labor. In other words, $y(aK,aL) < a*y(K,L)$."
   ]
  },
  {
   "cell_type": "markdown",
   "metadata": {},
   "source": [
    "**2)** The cost function equals\n",
    "\n",
    "$$c (y, r, w; A) = rK (y, r, w; A) + wL (y, r, w; A).~ ~ ~ ~ ~ ~ ~ ~ (5)$$\n",
    "\n",
    "Show that under (1) that this function equals\n",
    "\n",
    "$$c(y,r,w;A)= \\eta (\\frac{y}{A})^{\\frac{1}{\\eta}} r^{\\frac{\\alpha}{\\eta}} w^{\\frac{\\beta}{\\eta}} [\\alpha^{\\alpha} \\beta^{\\beta}]^{-\\frac{1}{\\eta}}.~ ~ ~ ~ ~ ~ ~ ~ (6)$$\n",
    "\n",
    "Show that (6) is homogenous of degree one in input prices. Provide an economic explanation for this [4 to 6 sentences]? Show that the cost shares of capital and labor are, respectively $\\frac{\\alpha}{\\eta}$ and $\\frac{\\beta}{\\eta}$."
   ]
  },
  {
   "cell_type": "markdown",
   "metadata": {},
   "source": [
    "**ANSWER**:\n",
    "\n",
    "$$c (y, r, w; A) = rK (y, r, w; A) + wL (y, r, w; A) = r \\cdot \\alpha (\\frac{y}{A})^{\\frac{1}{\\eta}} (\\frac{w}{r})^{\\frac{\\beta}{\\eta}} [\\alpha^{\\alpha}\\beta^{\\beta}]^{-\\frac{1}{\\eta}} + w \\cdot \\beta (\\frac{y}{A})^{\\frac{1}{\\eta}} (\\frac{w}{r})^{\\frac{\\alpha}{\\eta}} [\\alpha^{\\alpha} \\beta^{\\beta}]^{-\\frac{1}{\\eta}}.$$\n",
    "\n",
    "$$\\Leftrightarrow~ (\\frac{y}{A})^{\\frac{1}{\\eta}} [r\\alpha(\\frac{w}{r})^{\\frac{\\beta}{\\eta}} + w\\beta (\\frac{w}{r})^{\\frac{\\alpha}{\\eta}}] [\\alpha^{\\alpha}\\beta^{\\beta}]^{-\\frac{1}{\\eta}}.$$\n",
    "\n",
    "From $[r\\alpha(\\frac{w}{r})^{\\frac{\\beta}{\\eta}} + w\\beta (\\frac{w}{r})^{\\frac{\\alpha}{\\eta}}]$, we can observe that\n",
    "\n",
    "$$r^{\\frac{\\alpha+\\beta}{\\alpha+\\beta}} \\cdot r^{-\\frac{\\beta}{\\alpha+\\beta}} = r^{\\frac{\\alpha}{\\eta}},$$\n",
    "$$\\Rightarrow~ r \\cdot \\alpha(\\frac{w}{r})^{\\frac{\\beta}{\\eta}} = \\alpha r^{\\frac{\\alpha}{\\eta}} w^{\\frac{\\beta}{\\eta}}.~ ~ ~ ~ ~ ~ ~ (d)$$\n",
    "\n",
    "Since we saw from **2)** that $w = \\frac{\\beta k}{\\alpha l}r$,\n",
    "\n",
    "$$w = \\frac{\\beta k}{\\alpha l}r = \\frac{(\\frac{w}{r})^{\\frac{\\beta}{\\eta}}}{(\\frac{w}{r})^{\\frac{\\alpha}{\\eta}}} r = (\\frac{w}{r})^{\\frac{\\beta - \\alpha}{\\eta}} r = w^{\\frac{\\beta - \\alpha}{\\eta}} r^{\\frac{2\\alpha}{\\eta}}.$$\n",
    "\n",
    "Therefore,\n",
    "\n",
    "$$w\\beta (\\frac{w}{r})^{\\frac{\\alpha}{\\eta}} = \\beta w^{\\frac{\\beta - \\alpha}{\\eta}} r^{\\frac{2\\alpha}{\\eta}} (\\frac{w}{r})^{\\frac{\\alpha}{\\eta}} = \\beta w^{\\frac{\\beta}{\\eta}} r^{\\frac{\\alpha}{\\eta}}.~ ~ ~ ~ ~ ~ ~ (e)$$\n",
    "\n",
    "Plugging $(d)$ and $(e)$ to $[r\\alpha(\\frac{w}{r})^{\\frac{\\beta}{\\eta}} + w\\beta (\\frac{w}{r})^{\\frac{\\alpha}{\\eta}}]$,\n",
    "\n",
    "$$[r\\alpha(\\frac{w}{r})^{\\frac{\\beta}{\\eta}} + w\\beta (\\frac{w}{r})^{\\frac{\\alpha}{\\eta}}] = \\alpha r^{\\frac{\\alpha}{\\eta}} w^{\\frac{\\beta}{\\eta}} + \\beta r^{\\frac{\\alpha}{\\eta}} w^{\\frac{\\beta}{\\eta}} = (\\alpha + \\beta) r^{\\frac{\\alpha}{\\eta}} w^{\\frac{\\beta}{\\eta}} = \\eta r^{\\frac{\\alpha}{\\eta}} w^{\\frac{\\beta}{\\eta}}.$$\n",
    "\n",
    "Since $[r\\alpha(\\frac{w}{r})^{\\frac{\\beta}{\\eta}} + w\\beta (\\frac{w}{r})^{\\frac{\\alpha}{\\eta}}] = \\eta r^{\\frac{\\alpha}{\\eta}} w^{\\frac{\\beta}{\\eta}}$,\n",
    "\n",
    "$$(\\frac{y}{A})^{\\frac{1}{\\eta}} [r\\alpha(\\frac{w}{r})^{\\frac{\\beta}{\\eta}} + w\\beta (\\frac{w}{r})^{\\frac{\\alpha}{\\eta}}] [\\alpha^{\\alpha}\\beta^{\\beta}]^{-\\frac{1}{\\eta}} = \\eta (\\frac{y}{A})^{\\frac{1}{\\eta}} r^{\\frac{\\alpha}{\\eta}} w^{\\frac{\\beta}{\\eta}} [\\alpha^{\\alpha}\\beta^{\\beta}]^{-\\frac{1}{\\eta}},$$\n",
    "\n",
    "which is equivalent to equation $(6)$ from the question. $\\blacksquare$"
   ]
  },
  {
   "cell_type": "markdown",
   "metadata": {},
   "source": [
    "**Show that (6) is homogenous of degree one in input prices:**\n",
    "\n",
    "It is not difficult to show that $(6)$ is homogenous of degree one if we go back to $[r\\alpha(\\frac{w}{r})^{\\frac{\\beta}{\\eta}} + w\\beta (\\frac{w}{r})^{\\frac{\\alpha}{\\eta}}]$. Since doubling both $K^{*}$ and $L^{*}$ result in $[r\\alpha(\\frac{w}{r})^{\\frac{\\beta}{\\eta}} + w\\beta (\\frac{w}{r})^{\\frac{\\alpha}{\\eta}}]$ to become $[2r\\alpha(\\frac{w}{r})^{\\frac{\\beta}{\\eta}} + 2w\\beta (\\frac{w}{r})^{\\frac{\\alpha}{\\eta}}]$,\n",
    "\n",
    "$$[2r\\alpha(\\frac{w}{r})^{\\frac{\\beta}{\\eta}} + 2w\\beta (\\frac{w}{r})^{\\frac{\\alpha}{\\eta}}] = 2\\alpha r^{\\frac{\\alpha}{\\eta}} w^{\\frac{\\beta}{\\eta}} + 2\\beta r^{\\frac{\\alpha}{\\eta}} w^{\\frac{\\beta}{\\eta}},$$\n",
    "\n",
    "$$\\Leftrightarrow~ 2(\\alpha + \\beta) r^{\\frac{\\alpha}{\\eta}} w^{\\frac{\\beta}{\\eta}} = 2\\eta r^{\\frac{\\alpha}{\\eta}} w^{\\frac{\\beta}{\\eta}}$$\n",
    "\n",
    "This eventually results in $(6)$ to become\n",
    "\n",
    "$$2\\eta (\\frac{y}{A})^{\\frac{1}{\\eta}} r^{\\frac{\\alpha}{\\eta}} w^{\\frac{\\beta}{\\eta}} [\\alpha^{\\alpha} \\beta^{\\beta}]^{-\\frac{1}{\\eta}} = 2c(y,r,w;A).$$\n",
    "\n",
    "This proves that $(6)$ is homogenous of degree one in input prices. $\\blacksquare$"
   ]
  },
  {
   "cell_type": "markdown",
   "metadata": {
    "collapsed": true
   },
   "source": [
    "**Provide an economic explanation for this [4 to 6 sentences]:**\n",
    "\n",
    "Cost function can be explained with Capital price, Capital, Capital share, Wage, Labor, and Labor share. Since it is homogenous of degree one, we can conclude that **the cost of production will increase $x$ times if Capital and Labor both increase by $x$ times**."
   ]
  },
  {
   "cell_type": "markdown",
   "metadata": {},
   "source": [
    "**Show that the cost shares of capital and labor are, respectively, $\\frac{\\alpha}{\\eta}$ and $\\frac{\\beta}{\\eta}$.:**\n",
    "\n",
    "If we take partial derivatives on $y$ with respect to both $k$ and $l$,\n",
    "\n",
    "$$\\frac{\\partial y}{\\partial k} = \\alpha \\frac{A k^{\\alpha} l^{\\beta}}{k},$$\n",
    "$$\\frac{\\partial y}{\\partial l} = \\beta \\frac{A k^{\\alpha} l^{\\beta}}{l}$$\n",
    "\n",
    "Since Cobb-Douglas formula has shortcut for interior solutions to the unconstrained producer optimization problem,\n",
    "\n",
    "$$\\frac{\\partial y}{\\partial k} = r$$\n",
    "$$\\frac{\\partial y}{\\partial l} = w$$\n",
    "\n",
    "$$\\Leftrightarrow~ \\alpha \\frac{A k^{\\alpha} l^{\\beta}}{k} = r ~and~ \\beta \\frac{A k^{\\alpha} l^{\\beta}}{l} = w.~ ~ ~ ~ ~ ~ ~ ~ (f)$$\n",
    "\n",
    "Since Labor share and Capital share can be expressed in a following way,\n",
    "\n",
    "$$Share_{Labor} = \\frac{wL}{y},~ Share_{Capital} = \\frac{rK}{y},~ ~ ~ ~ ~ ~ ~ ~ (g)$$\n",
    "\n",
    "we can plug in $(f)$ into $(g)$,\n",
    "\n",
    "$$Share_{Labor} = \\frac{wL}{y} = \\frac{\\beta A k^{\\alpha} l^{\\beta} l }{l A k^{\\alpha} l^{\\beta}} = \\beta,$$\n",
    "$$Share_{Capital} = \\frac{rK}{y} = \\frac{\\alpha A k^{\\alpha} l^{\\beta} k }{k A k^{\\alpha} l^{\\beta}} = \\alpha.$$\n",
    "\n",
    "$$\\Leftrightarrow~ \\frac{Labor}{Total} = \\frac{\\beta}{\\eta},~ \\frac{Capital}{Total} = \\frac{\\alpha}{\\eta}.$$\n",
    "\n",
    "which shows that the cost shares of capital and labor are, respectively, $\\frac{\\alpha}{\\eta}$ and $\\frac{\\beta}{\\eta}$ regardless of the change in labor or capital. $\\blacksquare$"
   ]
  },
  {
   "cell_type": "markdown",
   "metadata": {},
   "source": [
    "**3)** Let $i = 1,...,N$ index a random sample of firms. For each firm we observe output, $Y_{i}$, the input prices Wi and $R_{i}$, and total costs $C_{i}$. We do not observe the firm-specific productivity parameter, $A_{i}$. We assume that firm behavior is governed by (1), (3), (4) and (6). Imposing the restriction that (6) is homogenous of degree one in input prices and taking logs yields\n",
    "\n",
    "$$ln C_{i} − ln W_{i} =\\kappa_{c} + \\frac{1}{\\eta} ln Y_{i} + \\frac{\\alpha}{\\eta} [ln R_{i} - ln W_{i}] - \\frac{1}{\\eta}(ln A_{i} - E[ln A_{i}])$$\n",
    "\n",
    "for $\\kappa_{c} = ln[\\eta [\\alpha^{\\alpha} \\beta^{\\beta}]^{-\\frac{1}{\\eta}}] - \\frac{1}{\\eta} E[ln A_{i}]$. Consider the linear regression of log costs onto the (logs of) output and rents minus wages:\n",
    "\n",
    "$$E^{*} [ln C_{i} − ln W_{i} \\mid ln Y_{i}, ln R_{i} - ln W_{i}] = k_0 + c_0 ln Y_{i} + a_0 [ln R_{i} - ln W_{i}].~ ~ ~ ~ ~ ~ ~ ~ (7)$$\n",
    "\n",
    "Is it likely that $c_0 = 1/\\eta$ and $a_0 = \\alpha/\\eta$? **Explain** (mathematical calculations are not required; 6 to 12 sentences).\n",
    "So far our analysis has been silent regarding how firms choose their output level. In answering this question it might be helpful to consider two cases. In one case, firms do not choose their output level (consider an electric utility that must meet demand at regulated prices). In the second case, firms _do_ choose their output level."
   ]
  },
  {
   "cell_type": "markdown",
   "metadata": {},
   "source": [
    "**ANSWER**:\n",
    "In general, we have to keep in mind that $ln C_{i} − ln W_{i}$ here is the true response variable that we are trying to estimate using equation $(7)$. Therefore, if equation $(7)$ is an unbiased estimator of $ln C_{i} − ln W_{i}$, it is safe to say that $c_0 = 1/\\eta$ and $a_0 = \\alpha/\\eta$. However, we cannot simply say that $c_0 = 1/\\eta$ and $a_0 = \\alpha/\\eta$ are true because conditions entail for this statement to be true. Let's investigate different cases where each of $c_0 = 1/\\eta$ and $a_0 = \\alpha/\\eta$ is true.\n",
    "\n",
    "1. First case, when firms do not choose their output level, we can condiser the output level $Y_{i}$ to be exogenous. Since the companies in this case are companies that generate electricity, it is more likely that they are not free from choosing their output level. In this case, we can argue that the production level is uncorrelated with the productivity level. The last term of $ln C_{i} − ln W_{i} =\\kappa_{c} + \\frac{1}{\\eta} ln Y_{i} + \\frac{\\alpha}{\\eta} [ln R_{i} - ln W_{i}] - \\frac{1}{\\eta}(ln A_{i} - E[ln A_{i}])$ could be considered as error term in equation $(7)$ (as it does not appear in $(7)$). In order for $c_0 = 1/\\eta$ and $a_0 = \\alpha/\\eta$ to be unbiased coefficients, the production level, $Y_{i}$ has to be uncorrelated with the 'error term', or there exists an omitted variable bias. Here, we consider wage and rent are also exogenous since most of the firms are not able to choose how much they pay for rent and wage. Since this case assumes that there is no correlation between the production level and the productivity level, we can say that $c_0 = 1/\\eta$ and $a_0 = \\alpha/\\eta$.\n",
    "\n",
    "2. Second case, when firms do choose their output level to maximize their profit, we cannot say with confidence that $c_0 = 1/\\eta$ will be true. Since the firms choose there production levels, it is impossible to say that their production level is uncorrelated with their productivity level. Therefore, if we say $c_0 = 1/\\eta$, then there exists an omitted variable bias; in other words, we have to take the production level $Y_{i}$ as one of the predictors that explains $ln C_{i} − ln W_{i}$, where it is not the case when we say $c_0 = 1/\\eta$."
   ]
  },
  {
   "cell_type": "markdown",
   "metadata": {},
   "source": [
    "## Produciton / cost function: Application\n",
    "Read the paper “Returns to scale in electricity supply” by Marc Nerlove made available on bCourses (Nerlove, 1963). The dataset printed in the article is available in machine readable form online at http://people.stern.nyu.edu/wgreene/Text/tables/TableF14-2.txt. Note that only the first 145 observations in the online archive correspond to the data used by Nerlove. This is the extract you should use in what follows."
   ]
  },
  {
   "cell_type": "markdown",
   "metadata": {},
   "source": [
    "### 0. Import data set"
   ]
  },
  {
   "cell_type": "code",
   "execution_count": 3,
   "metadata": {
    "collapsed": false
   },
   "outputs": [
    {
     "name": "stderr",
     "output_type": "stream",
     "text": [
      "/Users/HOON/anaconda3/envs/ds100/lib/python3.5/site-packages/ipykernel/__main__.py:2: ParserWarning: Falling back to the 'python' engine because the 'c' engine does not support regex separators (separators > 1 char and different from '\\s+' are interpreted as regex); you can avoid this warning by specifying engine='python'.\n",
      "  from ipykernel import kernelapp as app\n"
     ]
    },
    {
     "data": {
      "text/html": [
       "<div>\n",
       "<table border=\"1\" class=\"dataframe\">\n",
       "  <thead>\n",
       "    <tr style=\"text-align: right;\">\n",
       "      <th></th>\n",
       "      <th>year</th>\n",
       "      <th>cost</th>\n",
       "      <th>output</th>\n",
       "      <th>wage</th>\n",
       "      <th>labor_share</th>\n",
       "      <th>rent</th>\n",
       "      <th>capital_share</th>\n",
       "      <th>fuel_price</th>\n",
       "      <th>fuel_share</th>\n",
       "    </tr>\n",
       "  </thead>\n",
       "  <tbody>\n",
       "    <tr>\n",
       "      <th>0</th>\n",
       "      <td>1955</td>\n",
       "      <td>0.082</td>\n",
       "      <td>2.0</td>\n",
       "      <td>2.09</td>\n",
       "      <td>0.3164</td>\n",
       "      <td>183.0</td>\n",
       "      <td>0.4521</td>\n",
       "      <td>17.9</td>\n",
       "      <td>0.2315</td>\n",
       "    </tr>\n",
       "    <tr>\n",
       "      <th>1</th>\n",
       "      <td>1955</td>\n",
       "      <td>0.661</td>\n",
       "      <td>3.0</td>\n",
       "      <td>2.05</td>\n",
       "      <td>0.2073</td>\n",
       "      <td>174.0</td>\n",
       "      <td>0.6676</td>\n",
       "      <td>35.1</td>\n",
       "      <td>0.1251</td>\n",
       "    </tr>\n",
       "    <tr>\n",
       "      <th>2</th>\n",
       "      <td>1955</td>\n",
       "      <td>0.990</td>\n",
       "      <td>4.0</td>\n",
       "      <td>2.05</td>\n",
       "      <td>0.2349</td>\n",
       "      <td>171.0</td>\n",
       "      <td>0.5799</td>\n",
       "      <td>35.1</td>\n",
       "      <td>0.1852</td>\n",
       "    </tr>\n",
       "    <tr>\n",
       "      <th>3</th>\n",
       "      <td>1955</td>\n",
       "      <td>0.315</td>\n",
       "      <td>4.0</td>\n",
       "      <td>1.83</td>\n",
       "      <td>0.1152</td>\n",
       "      <td>166.0</td>\n",
       "      <td>0.7857</td>\n",
       "      <td>32.2</td>\n",
       "      <td>0.0990</td>\n",
       "    </tr>\n",
       "    <tr>\n",
       "      <th>4</th>\n",
       "      <td>1955</td>\n",
       "      <td>0.197</td>\n",
       "      <td>5.0</td>\n",
       "      <td>2.12</td>\n",
       "      <td>0.2300</td>\n",
       "      <td>233.0</td>\n",
       "      <td>0.3841</td>\n",
       "      <td>28.6</td>\n",
       "      <td>0.3859</td>\n",
       "    </tr>\n",
       "  </tbody>\n",
       "</table>\n",
       "</div>"
      ],
      "text/plain": [
       "   year   cost  output  wage  labor_share   rent  capital_share  fuel_price  \\\n",
       "0  1955  0.082     2.0  2.09       0.3164  183.0         0.4521        17.9   \n",
       "1  1955  0.661     3.0  2.05       0.2073  174.0         0.6676        35.1   \n",
       "2  1955  0.990     4.0  2.05       0.2349  171.0         0.5799        35.1   \n",
       "3  1955  0.315     4.0  1.83       0.1152  166.0         0.7857        32.2   \n",
       "4  1955  0.197     5.0  2.12       0.2300  233.0         0.3841        28.6   \n",
       "\n",
       "   fuel_share  \n",
       "0      0.2315  \n",
       "1      0.1251  \n",
       "2      0.1852  \n",
       "3      0.0990  \n",
       "4      0.3859  "
      ]
     },
     "execution_count": 3,
     "metadata": {},
     "output_type": "execute_result"
    }
   ],
   "source": [
    "column_names = ['year', 'cost', 'output', 'wage', 'labor_share', 'rent', 'capital_share', 'fuel_price', 'fuel_share']\n",
    "ps_data = pd.read_table('ps1_data.txt', sep = \"  \").iloc[:145, 1:]\n",
    "ps_data.columns = column_names\n",
    "ps_data.head()"
   ]
  },
  {
   "cell_type": "markdown",
   "metadata": {},
   "source": [
    "1) Compute the **least squares fit** of the **(log of) electricity costs/fuel prices** onto a constant and the **logs of electrical output, wages/fuel prices and rents/fuel prices**. Interpret your findings in light of the theoretical analysis completed above (i.e., provide a theoretical interpretation of each coefficient estimate). **Construct a table summarizing your results and briefly describe them in a few paragraphs**."
   ]
  },
  {
   "cell_type": "code",
   "execution_count": 4,
   "metadata": {
    "collapsed": false
   },
   "outputs": [
    {
     "name": "stderr",
     "output_type": "stream",
     "text": [
      "/Users/HOON/anaconda3/envs/ds100/lib/python3.5/site-packages/numpy/core/numeric.py:301: FutureWarning: in the future, full(145, 1) will return an array of dtype('int64')\n",
      "  format(shape, fill_value, array(fill_value).dtype), FutureWarning)\n"
     ]
    },
    {
     "data": {
      "text/html": [
       "<div>\n",
       "<table border=\"1\" class=\"dataframe\">\n",
       "  <thead>\n",
       "    <tr style=\"text-align: right;\">\n",
       "      <th></th>\n",
       "      <th>Y</th>\n",
       "      <th>constant</th>\n",
       "      <th>log(cp/fp)</th>\n",
       "      <th>log(output)</th>\n",
       "      <th>log(wage/fp)</th>\n",
       "    </tr>\n",
       "  </thead>\n",
       "  <tbody>\n",
       "    <tr>\n",
       "      <th>0</th>\n",
       "      <td>-5.385837</td>\n",
       "      <td>1.0</td>\n",
       "      <td>2.324685</td>\n",
       "      <td>0.693147</td>\n",
       "      <td>-2.147637</td>\n",
       "    </tr>\n",
       "    <tr>\n",
       "      <th>1</th>\n",
       "      <td>-3.972203</td>\n",
       "      <td>1.0</td>\n",
       "      <td>1.600854</td>\n",
       "      <td>1.098612</td>\n",
       "      <td>-2.840361</td>\n",
       "    </tr>\n",
       "    <tr>\n",
       "      <th>2</th>\n",
       "      <td>-3.568251</td>\n",
       "      <td>1.0</td>\n",
       "      <td>1.583462</td>\n",
       "      <td>1.386294</td>\n",
       "      <td>-2.840361</td>\n",
       "    </tr>\n",
       "    <tr>\n",
       "      <th>3</th>\n",
       "      <td>-4.627149</td>\n",
       "      <td>1.0</td>\n",
       "      <td>1.640021</td>\n",
       "      <td>1.386294</td>\n",
       "      <td>-2.867650</td>\n",
       "    </tr>\n",
       "    <tr>\n",
       "      <th>4</th>\n",
       "      <td>-4.977958</td>\n",
       "      <td>1.0</td>\n",
       "      <td>2.097632</td>\n",
       "      <td>1.609438</td>\n",
       "      <td>-2.601991</td>\n",
       "    </tr>\n",
       "  </tbody>\n",
       "</table>\n",
       "</div>"
      ],
      "text/plain": [
       "          Y  constant  log(cp/fp)  log(output)  log(wage/fp)\n",
       "0 -5.385837       1.0    2.324685     0.693147     -2.147637\n",
       "1 -3.972203       1.0    1.600854     1.098612     -2.840361\n",
       "2 -3.568251       1.0    1.583462     1.386294     -2.840361\n",
       "3 -4.627149       1.0    1.640021     1.386294     -2.867650\n",
       "4 -4.977958       1.0    2.097632     1.609438     -2.601991"
      ]
     },
     "execution_count": 4,
     "metadata": {},
     "output_type": "execute_result"
    }
   ],
   "source": [
    "ols_data = pd.DataFrame({\n",
    "    'Y'           : np.log(ps_data['cost'] / ps_data['fuel_price']),\n",
    "    'constant'   : np.full(len(ps_data), 1),\n",
    "    'log(output)' : np.log(ps_data['output']),\n",
    "    'log(wage/fp)': np.log(ps_data['wage'] / ps_data['fuel_price']),\n",
    "    'log(cp/fp)'  : np.log(ps_data['rent'] / ps_data['fuel_price'])\n",
    "})\n",
    "\"\"\"\n",
    "Here, Y = log(electricity costs / fuel prices) <= Response variable,\n",
    "      fp = fuel prices\n",
    "      cp = capital prices\n",
    "\"\"\"\n",
    "ols_data.head()"
   ]
  },
  {
   "cell_type": "code",
   "execution_count": 9,
   "metadata": {
    "collapsed": false
   },
   "outputs": [],
   "source": [
    "# Response Variables\n",
    "Y = ols_data['Y']\n",
    "\n",
    "# Predictors\n",
    "predictors = ols_data.columns[2:]\n",
    "pr_withconstant = ols_data.columns[1:]\n",
    "X = ols_data[predictors]"
   ]
  },
  {
   "cell_type": "code",
   "execution_count": 40,
   "metadata": {
    "collapsed": false
   },
   "outputs": [
    {
     "data": {
      "text/html": [
       "<table class=\"simpletable\">\n",
       "<caption>OLS Regression Results</caption>\n",
       "<tr>\n",
       "  <th>Dep. Variable:</th>            <td>Y</td>        <th>  R-squared:         </th> <td>   0.932</td>\n",
       "</tr>\n",
       "<tr>\n",
       "  <th>Model:</th>                   <td>OLS</td>       <th>  Adj. R-squared:    </th> <td>   0.930</td>\n",
       "</tr>\n",
       "<tr>\n",
       "  <th>Method:</th>             <td>Least Squares</td>  <th>  F-statistic:       </th> <td>   640.1</td>\n",
       "</tr>\n",
       "<tr>\n",
       "  <th>Date:</th>             <td>Thu, 16 Feb 2017</td> <th>  Prob (F-statistic):</th> <td>6.87e-82</td>\n",
       "</tr>\n",
       "<tr>\n",
       "  <th>Time:</th>                 <td>21:24:23</td>     <th>  Log-Likelihood:    </th> <td> -67.826</td>\n",
       "</tr>\n",
       "<tr>\n",
       "  <th>No. Observations:</th>      <td>   145</td>      <th>  AIC:               </th> <td>   143.7</td>\n",
       "</tr>\n",
       "<tr>\n",
       "  <th>Df Residuals:</th>          <td>   141</td>      <th>  BIC:               </th> <td>   155.6</td>\n",
       "</tr>\n",
       "<tr>\n",
       "  <th>Df Model:</th>              <td>     3</td>      <th>                     </th>     <td> </td>   \n",
       "</tr>\n",
       "<tr>\n",
       "  <th>Covariance Type:</th>      <td>nonrobust</td>    <th>                     </th>     <td> </td>   \n",
       "</tr>\n",
       "</table>\n",
       "<table class=\"simpletable\">\n",
       "<tr>\n",
       "        <td></td>          <th>coef</th>     <th>std err</th>      <th>t</th>      <th>P>|t|</th> <th>[95.0% Conf. Int.]</th> \n",
       "</tr>\n",
       "<tr>\n",
       "  <th>constant</th>     <td>   -4.6858</td> <td>    0.885</td> <td>   -5.293</td> <td> 0.000</td> <td>   -6.436    -2.936</td>\n",
       "</tr>\n",
       "<tr>\n",
       "  <th>log(cp/fp)</th>   <td>   -0.0085</td> <td>    0.191</td> <td>   -0.044</td> <td> 0.965</td> <td>   -0.386     0.369</td>\n",
       "</tr>\n",
       "<tr>\n",
       "  <th>log(output)</th>  <td>    0.7207</td> <td>    0.017</td> <td>   41.335</td> <td> 0.000</td> <td>    0.686     0.755</td>\n",
       "</tr>\n",
       "<tr>\n",
       "  <th>log(wage/fp)</th> <td>    0.5940</td> <td>    0.205</td> <td>    2.903</td> <td> 0.004</td> <td>    0.189     0.999</td>\n",
       "</tr>\n",
       "</table>\n",
       "<table class=\"simpletable\">\n",
       "<tr>\n",
       "  <th>Omnibus:</th>       <td>49.395</td> <th>  Durbin-Watson:     </th> <td>   1.016</td>\n",
       "</tr>\n",
       "<tr>\n",
       "  <th>Prob(Omnibus):</th> <td> 0.000</td> <th>  Jarque-Bera (JB):  </th> <td> 166.569</td>\n",
       "</tr>\n",
       "<tr>\n",
       "  <th>Skew:</th>          <td> 1.251</td> <th>  Prob(JB):          </th> <td>6.76e-37</td>\n",
       "</tr>\n",
       "<tr>\n",
       "  <th>Kurtosis:</th>      <td> 7.616</td> <th>  Cond. No.          </th> <td>    215.</td>\n",
       "</tr>\n",
       "</table>"
      ],
      "text/plain": [
       "<class 'statsmodels.iolib.summary.Summary'>\n",
       "\"\"\"\n",
       "                            OLS Regression Results                            \n",
       "==============================================================================\n",
       "Dep. Variable:                      Y   R-squared:                       0.932\n",
       "Model:                            OLS   Adj. R-squared:                  0.930\n",
       "Method:                 Least Squares   F-statistic:                     640.1\n",
       "Date:                Thu, 16 Feb 2017   Prob (F-statistic):           6.87e-82\n",
       "Time:                        21:24:23   Log-Likelihood:                -67.826\n",
       "No. Observations:                 145   AIC:                             143.7\n",
       "Df Residuals:                     141   BIC:                             155.6\n",
       "Df Model:                           3                                         \n",
       "Covariance Type:            nonrobust                                         \n",
       "================================================================================\n",
       "                   coef    std err          t      P>|t|      [95.0% Conf. Int.]\n",
       "--------------------------------------------------------------------------------\n",
       "constant        -4.6858      0.885     -5.293      0.000        -6.436    -2.936\n",
       "log(cp/fp)      -0.0085      0.191     -0.044      0.965        -0.386     0.369\n",
       "log(output)      0.7207      0.017     41.335      0.000         0.686     0.755\n",
       "log(wage/fp)     0.5940      0.205      2.903      0.004         0.189     0.999\n",
       "==============================================================================\n",
       "Omnibus:                       49.395   Durbin-Watson:                   1.016\n",
       "Prob(Omnibus):                  0.000   Jarque-Bera (JB):              166.569\n",
       "Skew:                           1.251   Prob(JB):                     6.76e-37\n",
       "Kurtosis:                       7.616   Cond. No.                         215.\n",
       "==============================================================================\n",
       "\n",
       "Warnings:\n",
       "[1] Standard Errors assume that the covariance matrix of the errors is correctly specified.\n",
       "\"\"\""
      ]
     },
     "execution_count": 40,
     "metadata": {},
     "output_type": "execute_result"
    }
   ],
   "source": [
    "# Linear Regression Fit (statsmodels)\n",
    "model_stats = sm.OLS(Y,ols_data[pr_withconstant]).fit()\n",
    "model_stats.summary()"
   ]
  },
  {
   "cell_type": "markdown",
   "metadata": {
    "collapsed": true
   },
   "source": [
    "2) **Compute, and report in a table, the average and standard deviation of the three input cost shares across the 145 utilities in your sample**. How do these averages compare with the cost share estimates associated with your analysis in question 1 above?"
   ]
  },
  {
   "cell_type": "code",
   "execution_count": 11,
   "metadata": {
    "collapsed": false
   },
   "outputs": [
    {
     "data": {
      "text/html": [
       "<div>\n",
       "<table border=\"1\" class=\"dataframe\">\n",
       "  <thead>\n",
       "    <tr style=\"text-align: right;\">\n",
       "      <th></th>\n",
       "      <th>Average</th>\n",
       "      <th>Stddev</th>\n",
       "    </tr>\n",
       "  </thead>\n",
       "  <tbody>\n",
       "    <tr>\n",
       "      <th>capital_share</th>\n",
       "      <td>0.427465</td>\n",
       "      <td>0.114590</td>\n",
       "    </tr>\n",
       "    <tr>\n",
       "      <th>fuel_share</th>\n",
       "      <td>0.467243</td>\n",
       "      <td>0.122791</td>\n",
       "    </tr>\n",
       "    <tr>\n",
       "      <th>labor_share</th>\n",
       "      <td>0.106717</td>\n",
       "      <td>0.045753</td>\n",
       "    </tr>\n",
       "  </tbody>\n",
       "</table>\n",
       "</div>"
      ],
      "text/plain": [
       "                Average    Stddev\n",
       "capital_share  0.427465  0.114590\n",
       "fuel_share     0.467243  0.122791\n",
       "labor_share    0.106717  0.045753"
      ]
     },
     "execution_count": 11,
     "metadata": {},
     "output_type": "execute_result"
    }
   ],
   "source": [
    "shares = pd.DataFrame({'labor_share': ps_data['labor_share'],\n",
    "                      'capital_share': ps_data['capital_share'],\n",
    "                      'fuel_share': ps_data['fuel_share']})\n",
    "share_table = pd.DataFrame({\n",
    "    'Average': np.mean(shares),\n",
    "    'Stddev' : np.std(shares)\n",
    "})\n",
    "share_table"
   ]
  },
  {
   "cell_type": "markdown",
   "metadata": {},
   "source": [
    "3) Assume that production continues to be Cobb-Douglas in capital, labor and fuel, but that the input elasticities, $\\alpha_{i}$, $\\beta_{i}$ and $\\gamma_{i}$ may now vary across firms. Let $P_{i}$ denote the price of fuel faced by firm $i$. Based on your theoretical analysis above, **show that**\n",
    "\n",
    "$$\\frac {C_{i} [\\frac{\\alpha_{i}}{\\eta_{i}}]^{\\frac{\\alpha_{i}}{\\eta_{i}}} [\\frac{\\beta_{i}}{\\eta_{i}}]^{\\frac{\\beta_{i}}{\\eta_{i}}} [\\frac{\\gamma_{i}}{\\eta_{i}}]^{\\frac{\\gamma_{i}}{\\eta_{i}}} } {R_{i}^{\\frac{\\alpha_{i}}{\\eta_{i}}} {W_{i}^{\\frac{\\beta_{i}}{\\eta_{i}}}} {P_{i}^{\\frac{\\gamma_{i}}{\\eta_{i}}}} } = (\\frac {Y_{i}} {A_{i}})^{ \\frac{1}{\\eta_{i}} }.$$\n",
    "\n",
    "**Construct a measure of the expression to the left of the equality for each of the 145 firms in your sample**. Call this variable $NC_{i}$ – for “normalized” costs. Show that\n",
    "\n",
    "$$ln NC_{i} = d + \\eta^{\\overline{-}1} ln Y_{i} + U_{i}$$\n",
    "\n",
    "for $d = -E[\\frac{1}{\\eta_{i}} ln A_{i}]$, $\\eta^{\\overline{-}1} = E[\\frac{1}{\\eta_{i}}]$ and\n",
    "\n",
    "$$U_{i} = (\\eta_{i}^{-1} - \\eta^{\\overline{-}1}) ln Y_{i} - (\\frac{1}{\\eta_{i}} ln A_{i} - E[\\frac{1}{\\eta_{i}} ln A_{i}]).$$\n",
    "\n",
    "**Compute the least squares fit of the (log) of $NC_{i}$ onto a constant and the (log of) output**. **Does the coefficient on log output recover $\\eta^{\\overline{-}1}$** (for a sample size large enough)? Discuss [5 to 10 sentences]. Hint: examine the necessary and sufficient conditions associated with the linear predictor projection associated with this least squares fit."
   ]
  },
  {
   "cell_type": "markdown",
   "metadata": {},
   "source": [
    "**ANSWER**: Since $c(y,r,w,p;A) = \\eta (\\frac{y}{A})^{\\frac{1}{\\eta}} r^{\\frac{\\alpha}{\\eta}} w^{\\frac{\\beta}{\\eta}} p^{\\frac{\\gamma}{\\eta}} [\\alpha^{\\alpha} \\beta^{\\beta} \\gamma^{\\gamma}]^{-\\frac{1}{\\eta}}$,\n",
    "\n",
    "$$\\frac {C_{i} [\\frac{\\alpha_{i}}{\\eta_{i}}]^{\\frac{\\alpha_{i}}{\\eta_{i}}} [\\frac{\\beta_{i}}{\\eta_{i}}]^{\\frac{\\beta_{i}}{\\eta_{i}}} [\\frac{\\gamma_{i}}{\\eta_{i}}]^{\\frac{\\gamma_{i}}{\\eta_{i}}} } {R_{i}^{\\frac{\\alpha_{i}}{\\eta_{i}}} {W_{i}^{\\frac{\\beta_{i}}{\\eta_{i}}}} {P_{i}^{\\frac{\\gamma_{i}}{\\eta_{i}}}} } = \\eta_{i} (\\frac{Y_{i}}{A_{i}})^{\\frac{1}{\\eta_{i}}} R_{i}^{\\frac{\\alpha_{i}}{\\eta_{i}}} W_{i}^{\\frac{\\beta_{i}}{\\eta_{i}}} P_{i}^{\\frac{\\gamma_{i}}{\\eta_{i}}} [\\alpha_{i}^{\\alpha_{i}} \\beta_{i}^{\\beta_{i}} \\gamma_{i}^{\\gamma_{i}}]^{-\\frac{1}{\\eta_{i}}} \\cdot \\frac {[\\frac{\\alpha_{i}}{\\eta_{i}}]^{\\frac{\\alpha_{i}}{\\eta_{i}}} [\\frac{\\beta_{i}}{\\eta_{i}}]^{\\frac{\\beta_{i}}{\\eta_{i}}} [\\frac{\\gamma_{i}}{\\eta_{i}}]^{\\frac{\\gamma_{i}}{\\eta_{i}}} } {R_{i}^{\\frac{\\alpha_{i}}{\\eta_{i}}} {W_{i}^{\\frac{\\beta_{i}}{\\eta_{i}}}} {P_{i}^{\\frac{\\gamma_{i}}{\\eta_{i}}}} }.$$\n",
    "\n",
    "Since $\\eta_{i} = [\\eta_{i}]^{\\frac{\\alpha_{i}}{\\eta_{i}}}[\\eta_{i}]^{\\frac{\\beta_{i}}{\\eta_{i}}}[\\eta_{i}]^{\\frac{\\gamma_{i}}{\\eta_{i}}}$,\n",
    "\n",
    "$$\\eta_{i}[\\alpha_{i}^{\\alpha_{i}} \\beta_{i}^{\\beta_{i}} \\gamma_{i}^{\\gamma_{i}}]^{-\\frac{1}{\\eta_{i}}} \\cdot [\\frac{\\alpha_{i}}{\\eta_{i}}]^{\\frac{\\alpha_{i}}{\\eta_{i}}} [\\frac{\\beta_{i}}{\\eta_{i}}]^{\\frac{\\beta_{i}}{\\eta_{i}}} [\\frac{\\gamma_{i}}{\\eta_{i}}]^{\\frac{\\gamma_{i}}{\\eta_{i}}} = [\\frac{\\eta_{i}}{\\alpha_{i}}]^{\\frac{\\alpha_{i}}{\\eta_{i}}} [\\frac{\\eta_{i}}{\\beta_{i}}]^{\\frac{\\beta_{i}}{\\eta_{i}}} [\\frac{\\eta_{i}}{\\gamma_{i}}]^{\\frac{\\gamma_{i}}{\\eta_{i}}} \\cdot [\\frac{\\alpha_{i}}{\\eta_{i}}]^{\\frac{\\alpha_{i}}{\\eta_{i}}} [\\frac{\\beta_{i}}{\\eta_{i}}]^{\\frac{\\beta_{i}}{\\eta_{i}}} [\\frac{\\gamma_{i}}{\\eta_{i}}]^{\\frac{\\gamma_{i}}{\\eta_{i}}} = 1$$\n",
    "\n",
    "$$\\therefore~ \\frac {C_{i} [\\frac{\\alpha_{i}}{\\eta_{i}}]^{\\frac{\\alpha_{i}}{\\eta_{i}}} [\\frac{\\beta_{i}}{\\eta_{i}}]^{\\frac{\\beta_{i}}{\\eta_{i}}} [\\frac{\\gamma_{i}}{\\eta_{i}}]^{\\frac{\\gamma_{i}}{\\eta_{i}}} } {R_{i}^{\\frac{\\alpha_{i}}{\\eta_{i}}} {W_{i}^{\\frac{\\beta_{i}}{\\eta_{i}}}} {P_{i}^{\\frac{\\gamma_{i}}{\\eta_{i}}}} } = (\\frac {Y_{i}} {A_{i}})^{ \\frac{1}{\\eta_{i}} } .~ \\blacksquare$$"
   ]
  },
  {
   "cell_type": "code",
   "execution_count": 12,
   "metadata": {
    "collapsed": false
   },
   "outputs": [],
   "source": [
    "#[x**x for x in share_table.loc[:,'Average']]\n",
    "#shares.iloc[0,:]**shares.iloc[0,:]\n",
    "#shares ** shares\n",
    "#share_table.loc[:,'Average']\n",
    "#(shares**shares)"
   ]
  },
  {
   "cell_type": "code",
   "execution_count": 13,
   "metadata": {
    "collapsed": false
   },
   "outputs": [],
   "source": [
    "shares_computed = (shares**shares)\n",
    "numer = ps_data['cost'] * shares_computed['capital_share']\\\n",
    "* shares_computed['fuel_share'] * shares_computed['labor_share']\n",
    "denom = ps_data['rent'].pow(shares['capital_share'])\\\n",
    "* ps_data['fuel_price'].pow(shares['fuel_share'])\\\n",
    "* ps_data['wage'].pow(shares['labor_share'])\n",
    "# Normalized cost\n",
    "NC_i = numer / denom"
   ]
  },
  {
   "cell_type": "markdown",
   "metadata": {},
   "source": [
    "**Show that**\n",
    "\n",
    "$$lnNC_i= d + \\eta^{-\\overline{1}} lnY_{i} + U_{i}$$\n",
    "\n",
    "**for $d=−E[\\frac{1}{\\eta_{i}} lnA_{i}]$, $\\eta^{\\overline{-}1} = E[\\frac{1}{\\eta_{i}}]$ and $U_{i} = (\\eta_{i}^{-1} - \\eta^{\\overline{-}1}) ln Y_{i} - (\\frac{1}{\\eta_{i}} ln A_{i} - E[\\frac{1}{\\eta_{i}} ln A_{i}])$.**\n",
    "\n",
    "$$ln NC_{i} = ln(\\frac {Y_{i}} {A_{i}})^{ \\frac{1}{\\eta_{i}} } = \\frac{1}{\\eta_{i}} ln Y_{i} - \\frac{1}{\\eta_{i}} ln A_{i} = \\frac{1}{\\eta_{i}} ln Y_{i} - \\frac{1}{\\eta_{i}} ln A_{i} + (E[\\frac{1}{\\eta_{i}} ln A_{i}] - E[\\frac{1}{\\eta_{i}} ln A_{i}]) + (E[\\frac{1}{\\eta_{i}}] ln Y_{i} - E[\\frac{1}{\\eta_{i}}] ln Y_{i}),$$\n",
    "$$= −E[\\frac{1}{\\eta_{i}} lnA_{i}] + E[\\frac{1}{\\eta_{i}}] ln Y_{i} + \\frac{1}{\\eta_{i}} ln Y_{i} - E[\\frac{1}{\\eta_{i}}] ln Y_{i} - \\frac{1}{\\eta_{i}} ln A_{i} + E[\\frac{1}{\\eta_{i}} ln A_{i}].$$\n",
    "\n",
    "If we change the terms in the last equation with the corresponding conditions provided, we can easily see that\n",
    "\n",
    "$$ −E[\\frac{1}{\\eta_{i}} lnA_{i}] + E[\\frac{1}{\\eta_{i}}] ln Y_{i} + \\frac{1}{\\eta_{i}} ln Y_{i} - E[\\frac{1}{\\eta_{i}}] ln Y_{i} - \\frac{1}{\\eta_{i}} ln A_{i} + E[\\frac{1}{\\eta_{i}} ln A_{i}] = d + \\eta^{\\overline{-}1} lnY_{i} + U_{i}.~ \\blacksquare$$"
   ]
  },
  {
   "cell_type": "code",
   "execution_count": 21,
   "metadata": {
    "collapsed": false
   },
   "outputs": [
    {
     "name": "stderr",
     "output_type": "stream",
     "text": [
      "/Users/HOON/anaconda3/envs/ds100/lib/python3.5/site-packages/numpy/core/numeric.py:301: FutureWarning: in the future, full(145, 1) will return an array of dtype('int64')\n",
      "  format(shape, fill_value, array(fill_value).dtype), FutureWarning)\n"
     ]
    },
    {
     "data": {
      "text/html": [
       "<div>\n",
       "<table border=\"1\" class=\"dataframe\">\n",
       "  <thead>\n",
       "    <tr style=\"text-align: right;\">\n",
       "      <th></th>\n",
       "      <th>Coefficients</th>\n",
       "    </tr>\n",
       "  </thead>\n",
       "  <tbody>\n",
       "    <tr>\n",
       "      <th>constant</th>\n",
       "      <td>-7.542766</td>\n",
       "    </tr>\n",
       "    <tr>\n",
       "      <th>output</th>\n",
       "      <td>0.695398</td>\n",
       "    </tr>\n",
       "  </tbody>\n",
       "</table>\n",
       "</div>"
      ],
      "text/plain": [
       "          Coefficients\n",
       "constant     -7.542766\n",
       "output        0.695398"
      ]
     },
     "execution_count": 21,
     "metadata": {},
     "output_type": "execute_result"
    }
   ],
   "source": [
    "Y_nc = pd.DataFrame(data=np.log(NC_i))\n",
    "X_nc = pd.DataFrame({\n",
    "    'constant' : np.full(len(ps_data),1),\n",
    "    'output'   : np.log(ps_data['output'])\n",
    "})\n",
    "model_nc = sm.OLS(Y_nc, X_nc).fit()\n",
    "pd.DataFrame(data=model_nc.params, columns=['Coefficients'])"
   ]
  },
  {
   "cell_type": "markdown",
   "metadata": {},
   "source": [
    "4) **Construct a table summarizing your results and briefly describe them in a few paragraphs**. Please **compare your results with those found in question 1 above**. **Construct a scatterplot of $ln Y_{i}$ and $ln NC_{i}$**. **Include your least squares fit in the plot as well as a 90 percent confidence band for the fit**."
   ]
  },
  {
   "cell_type": "code",
   "execution_count": 15,
   "metadata": {
    "collapsed": false
   },
   "outputs": [
    {
     "data": {
      "text/html": [
       "<table class=\"simpletable\">\n",
       "<caption>OLS Regression Results</caption>\n",
       "<tr>\n",
       "  <th>Dep. Variable:</th>            <td>0</td>        <th>  R-squared:         </th> <td>   0.908</td>\n",
       "</tr>\n",
       "<tr>\n",
       "  <th>Model:</th>                   <td>OLS</td>       <th>  Adj. R-squared:    </th> <td>   0.908</td>\n",
       "</tr>\n",
       "<tr>\n",
       "  <th>Method:</th>             <td>Least Squares</td>  <th>  F-statistic:       </th> <td>   1414.</td>\n",
       "</tr>\n",
       "<tr>\n",
       "  <th>Date:</th>             <td>Thu, 16 Feb 2017</td> <th>  Prob (F-statistic):</th> <td>5.01e-76</td>\n",
       "</tr>\n",
       "<tr>\n",
       "  <th>Time:</th>                 <td>17:30:11</td>     <th>  Log-Likelihood:    </th> <td> -80.484</td>\n",
       "</tr>\n",
       "<tr>\n",
       "  <th>No. Observations:</th>      <td>   145</td>      <th>  AIC:               </th> <td>   165.0</td>\n",
       "</tr>\n",
       "<tr>\n",
       "  <th>Df Residuals:</th>          <td>   143</td>      <th>  BIC:               </th> <td>   170.9</td>\n",
       "</tr>\n",
       "<tr>\n",
       "  <th>Df Model:</th>              <td>     1</td>      <th>                     </th>     <td> </td>   \n",
       "</tr>\n",
       "<tr>\n",
       "  <th>Covariance Type:</th>      <td>nonrobust</td>    <th>                     </th>     <td> </td>   \n",
       "</tr>\n",
       "</table>\n",
       "<table class=\"simpletable\">\n",
       "<tr>\n",
       "      <td></td>        <th>coef</th>     <th>std err</th>      <th>t</th>      <th>P>|t|</th> <th>[95.0% Conf. Int.]</th> \n",
       "</tr>\n",
       "<tr>\n",
       "  <th>constant</th> <td>   -7.5428</td> <td>    0.126</td> <td>  -59.736</td> <td> 0.000</td> <td>   -7.792    -7.293</td>\n",
       "</tr>\n",
       "<tr>\n",
       "  <th>output</th>   <td>    0.6954</td> <td>    0.018</td> <td>   37.605</td> <td> 0.000</td> <td>    0.659     0.732</td>\n",
       "</tr>\n",
       "</table>\n",
       "<table class=\"simpletable\">\n",
       "<tr>\n",
       "  <th>Omnibus:</th>       <td>25.043</td> <th>  Durbin-Watson:     </th> <td>   1.067</td>\n",
       "</tr>\n",
       "<tr>\n",
       "  <th>Prob(Omnibus):</th> <td> 0.000</td> <th>  Jarque-Bera (JB):  </th> <td>  38.622</td>\n",
       "</tr>\n",
       "<tr>\n",
       "  <th>Skew:</th>          <td> 0.879</td> <th>  Prob(JB):          </th> <td>4.11e-09</td>\n",
       "</tr>\n",
       "<tr>\n",
       "  <th>Kurtosis:</th>      <td> 4.816</td> <th>  Cond. No.          </th> <td>    24.9</td>\n",
       "</tr>\n",
       "</table>"
      ],
      "text/plain": [
       "<class 'statsmodels.iolib.summary.Summary'>\n",
       "\"\"\"\n",
       "                            OLS Regression Results                            \n",
       "==============================================================================\n",
       "Dep. Variable:                      0   R-squared:                       0.908\n",
       "Model:                            OLS   Adj. R-squared:                  0.908\n",
       "Method:                 Least Squares   F-statistic:                     1414.\n",
       "Date:                Thu, 16 Feb 2017   Prob (F-statistic):           5.01e-76\n",
       "Time:                        17:30:11   Log-Likelihood:                -80.484\n",
       "No. Observations:                 145   AIC:                             165.0\n",
       "Df Residuals:                     143   BIC:                             170.9\n",
       "Df Model:                           1                                         \n",
       "Covariance Type:            nonrobust                                         \n",
       "==============================================================================\n",
       "                 coef    std err          t      P>|t|      [95.0% Conf. Int.]\n",
       "------------------------------------------------------------------------------\n",
       "constant      -7.5428      0.126    -59.736      0.000        -7.792    -7.293\n",
       "output         0.6954      0.018     37.605      0.000         0.659     0.732\n",
       "==============================================================================\n",
       "Omnibus:                       25.043   Durbin-Watson:                   1.067\n",
       "Prob(Omnibus):                  0.000   Jarque-Bera (JB):               38.622\n",
       "Skew:                           0.879   Prob(JB):                     4.11e-09\n",
       "Kurtosis:                       4.816   Cond. No.                         24.9\n",
       "==============================================================================\n",
       "\n",
       "Warnings:\n",
       "[1] Standard Errors assume that the covariance matrix of the errors is correctly specified.\n",
       "\"\"\""
      ]
     },
     "execution_count": 15,
     "metadata": {},
     "output_type": "execute_result"
    }
   ],
   "source": [
    "model_nc.summary()"
   ]
  },
  {
   "cell_type": "markdown",
   "metadata": {},
   "source": [
    "The variable of interest here is $\\eta$, the returns-to-scale parameter. From the theoretical approach that took place above, we can deduce that inverse of the coefficient of the log(output) is the empirical estimation of the true $\\eta$ of this sample. The inverse of eta estimations found from question 1 and here are slightly different (0.7207 and 0.6954) probably due to small sample size. However, we can assume that asymptotically, $E[\\frac{1}{\\eta_{i}}] = \\frac{1}{\\eta}$ is true."
   ]
  },
  {
   "cell_type": "code",
   "execution_count": 66,
   "metadata": {
    "collapsed": false
   },
   "outputs": [
    {
     "data": {
      "image/png": "[encoded data removed]",
      "text/plain": [
       "<matplotlib.figure.Figure at 0x114825588>"
      ]
     },
     "metadata": {},
     "output_type": "display_data"
    }
   ],
   "source": [
    "sns.regplot(np.log(ps_data['output']),np.log(NC_i), color ='blue')\n",
    "plt.show()"
   ]
  },
  {
   "cell_type": "markdown",
   "metadata": {},
   "source": [
    "5) Using your analysis in question 1 above, **propose and construct an estimate of $A_{i}$ for each firm**. Plot a **histogram** of these estimates. Discuss the **measured productivity differences across the utilities** in your sample. Can you think of any policy implications of your findings?"
   ]
  },
  {
   "cell_type": "code",
   "execution_count": 69,
   "metadata": {
    "collapsed": false
   },
   "outputs": [
    {
     "data": {
      "image/png": "[encoded data removed]",
      "text/plain": [
       "<matplotlib.figure.Figure at 0x114869eb8>"
      ]
     },
     "metadata": {},
     "output_type": "display_data"
    }
   ],
   "source": [
    "eta = 1 / model_stats.params[2]\n",
    "#eta = 1 / model_nc.params[1]\n",
    "A = ps_data['output'] / ps_data['rent'].pow(shares['capital_share'] * eta)\\\n",
    "* ps_data['fuel_price'].pow(shares['fuel_share']*eta)\\\n",
    "* ps_data['wage'].pow(shares['labor_share']*eta)\n",
    "A_hist = plt.hist(A,29)\n",
    "plt.show()"
   ]
  },
  {
   "cell_type": "markdown",
   "metadata": {},
   "source": [
    "Since $y = Ar^{\\alpha}w^{\\beta}p^{\\gamma}$, I thought $A = \\frac{y}{r^{\\alpha}w^{\\beta}p^{\\gamma}}$ will be a good way to estimate productivity level. The histogram above is shows the distribution of productivity level. As it can be observed from the histrogram, most firms have very low productivity level. I believe this shows the characteristics of the electricity industry. Since electricity production level is usually not decided by generating maximum profit for the firms, but rather decided by the government, firms that are in the electricity industry do not have as much motivation to improve their productivity levels."
   ]
  },
  {
   "cell_type": "markdown",
   "metadata": {},
   "source": [
    "6) ~~**Compute the least squares fit of the logs of output onto those of capital, labor and fuel**. **Construct a table summarizing your results and briefly describe them in a few paragraphs**. Relate your least squares coefficient estimates to the **Cobb-Douglas production function parameters** as well as your analysis in questions 1 and 2 above.~~"
   ]
  },
  {
   "cell_type": "markdown",
   "metadata": {},
   "source": [
    "### Different trials... (Not part of the homework)"
   ]
  },
  {
   "cell_type": "code",
   "execution_count": null,
   "metadata": {
    "collapsed": false
   },
   "outputs": [],
   "source": [
    "# Linear Regression Fit (sklearn)\n",
    "model = lm.fit(X,Y)\n",
    "constant = pd.DataFrame({'Predictors': ['Constant'], 'Coefficients': [model.intercept_]})\n",
    "coef = pd.DataFrame(list(zip(predictors, model.coef_)), columns = ['Predictors', 'Coefficients'])\n",
    "lm_table = pd.concat([constant, coef], ignore_index=True)\n",
    "lm_table = lm_table.reindex_axis(coef.columns, axis=1)\n",
    "print(\"R-squared value is %s\" %lm.score(X,Y))\n",
    "print(\"Linear regression coefficients of log(electricity cost):\")\n",
    "lm_table"
   ]
  },
  {
   "cell_type": "code",
   "execution_count": null,
   "metadata": {
    "collapsed": true
   },
   "outputs": [],
   "source": [
    "class LinearRegression(linear_model.LinearRegression):\n",
    "    \"\"\"\n",
    "    Modification on LinearRegression function in linear_model to calculate standard error and p values.\n",
    "    \"\"\"\n",
    "\n",
    "    def __init__(self, *args, **kwargs):\n",
    "        if not \"fit_intercept\" in kwargs:\n",
    "            kwargs['fit_intercept'] = False\n",
    "        super(LinearRegression, self)\\\n",
    "                .__init__(*args, **kwargs)\n",
    "\n",
    "    def fit(self, X, y, n_jobs=1):\n",
    "        self = super(LinearRegression, self).fit(X, y, n_jobs)\n",
    "\n",
    "        self.sse = np.sum((self.predict(X) - y) ** 2, axis=0) / float(X.shape[0] - X.shape[1])\n",
    "        self.se = np.array([\n",
    "            np.sqrt(np.diagonal(sse[i] * np.linalg.inv(np.dot(X.T, X))))\n",
    "                                                    for i in range(sse.shape[0])\n",
    "                    ])\n",
    "\n",
    "        self.t = self.coef_ / se\n",
    "        self.p = 2 * (1 - stats.t.cdf(np.abs(self.t), y.shape[0] - X.shape[1]))\n",
    "        return self"
   ]
  },
  {
   "cell_type": "code",
   "execution_count": null,
   "metadata": {
    "collapsed": false
   },
   "outputs": [],
   "source": [
    "# Linear Regression Fit (Matrix computation)\n",
    "pr = ols_data.columns[1:]\n",
    "Xm = np.mat(ols_data[pr])\n",
    "Ym = np.mat(Y).T\n",
    "beta_hat = ((Xm.T*Xm).I)*Xm.T*Ym\n",
    "# beta_hat\n",
    "pd.DataFrame(data=beta_hat, index=pr, columns=['Coefficients'])"
   ]
  },
  {
   "cell_type": "code",
   "execution_count": null,
   "metadata": {
    "collapsed": false
   },
   "outputs": [],
   "source": [
    "res = Ym - Xm * beta_hat\n",
    "rss = res.T*res\n",
    "print(\"Residual Sum of Squares: %s\" %float(rss))"
   ]
  },
  {
   "cell_type": "code",
   "execution_count": null,
   "metadata": {
    "collapsed": false
   },
   "outputs": [],
   "source": [
    "(Ym - model.predict(X))-res"
   ]
  },
  {
   "cell_type": "code",
   "execution_count": null,
   "metadata": {
    "collapsed": false
   },
   "outputs": [],
   "source": [
    "mse = rss / (len(ols_data) - 3)\n",
    "print(\"Mean Squared Error: %s\" %float(mse))"
   ]
  },
  {
   "cell_type": "code",
   "execution_count": null,
   "metadata": {
    "collapsed": false
   },
   "outputs": [],
   "source": [
    "hat_mat = Xm*(Xm.T*Xm).I*Xm.T\n",
    "cov_mat = pd.DataFrame(data=float(mse)*(Xm.T*Xm).I, index = pr)\n",
    "cov_mat.columns = [pr]\n",
    "#Covariance matrix of beta_hat\n",
    "cov_mat\n",
    "#se = np.sqrt(np.diag(cov_mat))\n",
    "#se"
   ]
  },
  {
   "cell_type": "code",
   "execution_count": 36,
   "metadata": {
    "collapsed": false
   },
   "outputs": [
    {
     "data": {
      "image/png": "[encoded data removed]",
      "text/plain": [
       "<matplotlib.figure.Figure at 0x11387ac18>"
      ]
     },
     "metadata": {},
     "output_type": "display_data"
    }
   ],
   "source": [
    "plt.scatter(np.log(ps_data['output']),np.log(NC_i))\n",
    "x_pred = np.linspace(np.log(ps_data['output']).min(), np.log(ps_data['output']).max(), 145)\n",
    "y_pred = model_nc.predict(sm.add_constant(x_pred))\n",
    "plt.plot(x_pred, y_pred)\n",
    "prstd, iv_l, iv_u = wls_prediction_std(model_nc, alpha = 0.1)\n",
    "plt.plot(x_pred, iv_l)\n",
    "plt.plot(x_pred, iv_u)\n",
    "plt.show()"
   ]
  },
  {
   "cell_type": "code",
   "execution_count": null,
   "metadata": {
    "collapsed": true
   },
   "outputs": [],
   "source": []
  }
 ],
 "metadata": {
  "kernelspec": {
   "display_name": "Python 3",
   "language": "python",
   "name": "python3"
  },
  "language_info": {
   "codemirror_mode": {
    "name": "ipython",
    "version": 3
   },
   "file_extension": ".py",
   "mimetype": "text/x-python",
   "name": "python",
   "nbconvert_exporter": "python",
   "pygments_lexer": "ipython3",
   "version": "3.5.2"
  }
 },
 "nbformat": 4,
 "nbformat_minor": 2
}
